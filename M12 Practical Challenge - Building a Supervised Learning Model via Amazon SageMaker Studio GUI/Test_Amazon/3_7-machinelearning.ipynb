{
 "cells": [
  {
   "cell_type": "markdown",
   "metadata": {},
   "source": [
    "# Lab 3.7 - Student Notebook"
   ]
  },
  {
   "cell_type": "markdown",
   "metadata": {},
   "source": [
    "## Overview\n",
    "\n",
    "This lab is a continuation of the guided labs in Module 3.\n",
    "\n",
    "In this lab, you will create a hyperparameter tuning job to tune the model that you created previously. You will then compare the metrics of the two models.\n",
    "\n",
    "\n",
    "## Introduction to the business scenario\n",
    "\n",
    "You work for a healthcare provider, and want to improve the detection of abnormalities in orthopedic patients. \n",
    "\n",
    "You are tasked with solving this problem by using machine learning (ML). You have access to a dataset that contains six biomechanical features and a target of *normal* or *abnormal*. You can use this dataset to train an ML model to predict if a patient will have an abnormality.\n",
    "\n",
    "\n",
    "## About this dataset\n",
    "\n",
    "This biomedical dataset was built by Dr. Henrique da Mota during a medical residence period in the Group of Applied Research in Orthopaedics (GARO) of the Centre Médico-Chirurgical de Réadaptation des Massues, Lyon, France. The data has been organized in two different, but related, classification tasks. \n",
    "\n",
    "The first task consists in classifying patients as belonging to one of three categories: \n",
    "\n",
    "- *Normal* (100 patients)\n",
    "- *Disk Hernia* (60 patients)\n",
    "- *Spondylolisthesis* (150 patients)\n",
    "\n",
    "For the second task, the categories *Disk Hernia* and *Spondylolisthesis* were merged into a single category that is labeled as *abnormal*. Thus, the second task consists in classifying patients as belonging to one of two categories: *Normal* (100 patients) or *Abnormal* (210 patients).\n",
    "\n",
    "\n",
    "## Attribute information\n",
    "\n",
    "Each patient is represented in the dataset by six biomechanical attributes that are derived from the shape and orientation of the pelvis and lumbar spine (in this order): \n",
    "\n",
    "- Pelvic incidence\n",
    "- Pelvic tilt\n",
    "- Lumbar lordosis angle\n",
    "- Sacral slope\n",
    "- Pelvic radius\n",
    "- Grade of spondylolisthesis\n",
    "\n",
    "The following convention is used for the class labels: \n",
    "- DH (Disk Hernia)\n",
    "- Spondylolisthesis (SL)\n",
    "- Normal (NO) \n",
    "- Abnormal (AB)\n",
    "\n",
    "\n",
    "For more information about this dataset, see the [Vertebral Column dataset webpage](http://archive.ics.uci.edu/ml/datasets/Vertebral+Column).\n",
    "\n",
    "\n",
    "## Dataset attributions\n",
    "\n",
    "This dataset was obtained from:\n",
    "Dua, D. and Graff, C. (2019). UCI Machine Learning Repository (http://archive.ics.uci.edu/ml). Irvine, CA: University of California, School of Information and Computer Science.\n"
   ]
  },
  {
   "cell_type": "markdown",
   "metadata": {},
   "source": [
    "# Lab setup\n",
    "\n",
    "Because this solution is split across several labs in the module, you run the following cells so that you can load the data and train the model to be deployed.\n",
    "\n",
    "**Note:** The setup can take up to 5 minutes to complete."
   ]
  },
  {
   "cell_type": "markdown",
   "metadata": {},
   "source": [
    "## Importing the data\n",
    "\n",
    "By running the following cells, the data will be imported and ready for use. \n",
    "\n",
    "**Note:** The following cells represent the key steps in the previous labs.\n"
   ]
  },
  {
   "cell_type": "code",
   "execution_count": 1,
   "metadata": {},
   "outputs": [],
   "source": [
    "bucket='c41320a536421l1380754t1w254379084897-labbucket-x3wv6bvojt2y'"
   ]
  },
  {
   "cell_type": "code",
   "execution_count": 2,
   "metadata": {},
   "outputs": [],
   "source": [
    "import time\n",
    "start = time.time()\n",
    "import warnings, requests, zipfile, io\n",
    "warnings.simplefilter('ignore')\n",
    "import pandas as pd\n",
    "from scipy.io import arff\n",
    "\n",
    "import os\n",
    "import boto3\n",
    "import sagemaker\n",
    "from sagemaker.image_uris import retrieve\n",
    "from sklearn.model_selection import train_test_split\n",
    "\n",
    "from sklearn.metrics import roc_auc_score, roc_curve, auc, confusion_matrix\n",
    "import seaborn as sns\n",
    "import matplotlib.pyplot as plt"
   ]
  },
  {
   "cell_type": "code",
   "execution_count": 3,
   "metadata": {},
   "outputs": [
    {
     "name": "stdout",
     "output_type": "stream",
     "text": [
      "\n",
      "2021-12-09 22:16:34 Starting - Starting the training job\n",
      "2021-12-09 22:16:39 Starting - Launching requested ML instances............\n",
      "2021-12-09 22:17:42 Starting - Preparing the instances for training...........\n",
      "2021-12-09 22:18:43 Downloading - Downloading input data..\n",
      "2021-12-09 22:18:58 Training - Downloading the training image....\n",
      "2021-12-09 22:19:21 Training - Training image download completed. Training in progress.\n",
      "2021-12-09 22:19:27 Uploading - Uploading generated training model.\n",
      "2021-12-09 22:19:35 Completed - Training job completed\n",
      "....................................\u001b[34m[2021-12-09:22:25:35:INFO] No GPUs detected (normal if no gpus installed)\u001b[0m\n",
      "\u001b[34m[2021-12-09:22:25:35:INFO] No GPUs detected (normal if no gpus installed)\u001b[0m\n",
      "\u001b[34m[2021-12-09:22:25:35:INFO] nginx config: \u001b[0m\n",
      "\u001b[34mworker_processes auto;\u001b[0m\n",
      "\u001b[34mdaemon off;\u001b[0m\n",
      "\u001b[34mpid /tmp/nginx.pid;\u001b[0m\n",
      "\u001b[34merror_log  /dev/stderr;\u001b[0m\n",
      "\u001b[34mworker_rlimit_nofile 4096;\u001b[0m\n",
      "\u001b[34mevents {\n",
      "  worker_connections 2048;\u001b[0m\n",
      "\u001b[34m}\u001b[0m\n",
      "\u001b[34mhttp {\n",
      "  include /etc/nginx/mime.types;\n",
      "  default_type application/octet-stream;\n",
      "  access_log /dev/stdout combined;\n",
      "  upstream gunicorn {\n",
      "    server unix:/tmp/gunicorn.sock;\n",
      "  }\n",
      "  server {\n",
      "    listen 8080 deferred;\n",
      "    client_max_body_size 0;\n",
      "    keepalive_timeout 3;\n",
      "    location ~ ^/(ping|invocations|execution-parameters) {\n",
      "      proxy_set_header X-Forwarded-For $proxy_add_x_forwarded_for;\n",
      "      proxy_set_header Host $http_host;\n",
      "      proxy_redirect off;\n",
      "      proxy_read_timeout 60s;\n",
      "      proxy_pass http://gunicorn;\n",
      "    }\n",
      "    location / {\n",
      "      return 404 \"{}\";\n",
      "    }\n",
      "  }\u001b[0m\n",
      "\u001b[34m}\u001b[0m\n",
      "\u001b[34m[2021-12-09 22:25:35 +0000] [26] [INFO] Starting gunicorn 19.10.0\u001b[0m\n",
      "\u001b[34m[2021-12-09 22:25:35 +0000] [26] [INFO] Listening at: unix:/tmp/gunicorn.sock (26)\u001b[0m\n",
      "\u001b[34m[2021-12-09 22:25:35 +0000] [26] [INFO] Using worker: gevent\u001b[0m\n",
      "\u001b[34m[2021-12-09 22:25:35 +0000] [37] [INFO] Booting worker with pid: 37\u001b[0m\n",
      "\u001b[34m[2021-12-09 22:25:35 +0000] [38] [INFO] Booting worker with pid: 38\u001b[0m\n",
      "\u001b[34m[2021-12-09 22:25:35 +0000] [39] [INFO] Booting worker with pid: 39\u001b[0m\n",
      "\u001b[34m[2021-12-09 22:25:35 +0000] [40] [INFO] Booting worker with pid: 40\u001b[0m\n",
      "\u001b[34m[2021-12-09 22:25:35 +0000] [48] [INFO] Booting worker with pid: 48\u001b[0m\n",
      "\u001b[34m[2021-12-09 22:25:35 +0000] [56] [INFO] Booting worker with pid: 56\u001b[0m\n",
      "\u001b[34m[2021-12-09 22:25:35 +0000] [57] [INFO] Booting worker with pid: 57\u001b[0m\n",
      "\u001b[34m[2021-12-09 22:25:35 +0000] [58] [INFO] Booting worker with pid: 58\u001b[0m\n",
      "\u001b[34m[2021-12-09:22:25:39:INFO] No GPUs detected (normal if no gpus installed)\u001b[0m\n",
      "\u001b[35m[2021-12-09:22:25:39:INFO] No GPUs detected (normal if no gpus installed)\u001b[0m\n",
      "\u001b[34m169.254.255.130 - - [09/Dec/2021:22:25:39 +0000] \"GET /ping HTTP/1.1\" 200 0 \"-\" \"Go-http-client/1.1\"\u001b[0m\n",
      "\u001b[34m[2021-12-09:22:25:39:INFO] No GPUs detected (normal if no gpus installed)\u001b[0m\n",
      "\u001b[34m169.254.255.130 - - [09/Dec/2021:22:25:39 +0000] \"GET /execution-parameters HTTP/1.1\" 200 84 \"-\" \"Go-http-client/1.1\"\u001b[0m\n",
      "\u001b[34m[2021-12-09:22:25:39:INFO] No GPUs detected (normal if no gpus installed)\u001b[0m\n",
      "\u001b[34m[2021-12-09:22:25:39:INFO] Determined delimiter of CSV input is ','\u001b[0m\n",
      "\u001b[34m169.254.255.130 - - [09/Dec/2021:22:25:39 +0000] \"POST /invocations HTTP/1.1\" 200 598 \"-\" \"Go-http-client/1.1\"\u001b[0m\n",
      "\u001b[35m169.254.255.130 - - [09/Dec/2021:22:25:39 +0000] \"GET /ping HTTP/1.1\" 200 0 \"-\" \"Go-http-client/1.1\"\u001b[0m\n",
      "\u001b[35m[2021-12-09:22:25:39:INFO] No GPUs detected (normal if no gpus installed)\u001b[0m\n",
      "\u001b[35m169.254.255.130 - - [09/Dec/2021:22:25:39 +0000] \"GET /execution-parameters HTTP/1.1\" 200 84 \"-\" \"Go-http-client/1.1\"\u001b[0m\n",
      "\u001b[35m[2021-12-09:22:25:39:INFO] No GPUs detected (normal if no gpus installed)\u001b[0m\n",
      "\u001b[35m[2021-12-09:22:25:39:INFO] Determined delimiter of CSV input is ','\u001b[0m\n",
      "\u001b[35m169.254.255.130 - - [09/Dec/2021:22:25:39 +0000] \"POST /invocations HTTP/1.1\" 200 598 \"-\" \"Go-http-client/1.1\"\u001b[0m\n",
      "\u001b[32m2021-12-09T22:25:39.812:[sagemaker logs]: MaxConcurrentTransforms=8, MaxPayloadInMB=6, BatchStrategy=MULTI_RECORD\u001b[0m\n",
      "\n",
      "!\n",
      "CPU times: user 1.37 s, sys: 99 ms, total: 1.47 s\n",
      "Wall time: 9min 53s\n"
     ]
    }
   ],
   "source": [
    "%%time\n",
    "\n",
    "def plot_roc(test_labels, target_predicted_binary):\n",
    "    TN, FP, FN, TP = confusion_matrix(test_labels, target_predicted_binary).ravel()\n",
    "    # Sensitivity, hit rate, recall, or true positive rate\n",
    "    Sensitivity  = float(TP)/(TP+FN)*100\n",
    "    # Specificity or true negative rate\n",
    "    Specificity  = float(TN)/(TN+FP)*100\n",
    "    # Precision or positive predictive value\n",
    "    Precision = float(TP)/(TP+FP)*100\n",
    "    # Negative predictive value\n",
    "    NPV = float(TN)/(TN+FN)*100\n",
    "    # Fall out or false positive rate\n",
    "    FPR = float(FP)/(FP+TN)*100\n",
    "    # False negative rate\n",
    "    FNR = float(FN)/(TP+FN)*100\n",
    "    # False discovery rate\n",
    "    FDR = float(FP)/(TP+FP)*100\n",
    "    # Overall accuracy\n",
    "    ACC = float(TP+TN)/(TP+FP+FN+TN)*100\n",
    "\n",
    "    print(f\"Sensitivity or TPR: {Sensitivity}%\")    \n",
    "    print(f\"Specificity or TNR: {Specificity}%\") \n",
    "    print(f\"Precision: {Precision}%\")   \n",
    "    print(f\"Negative Predictive Value: {NPV}%\")  \n",
    "    print( f\"False Positive Rate: {FPR}%\") \n",
    "    print(f\"False Negative Rate: {FNR}%\")  \n",
    "    print(f\"False Discovery Rate: {FDR}%\" )\n",
    "    print(f\"Accuracy: {ACC}%\") \n",
    "\n",
    "    test_labels = test.iloc[:,0];\n",
    "    print(\"Validation AUC\", roc_auc_score(test_labels, target_predicted_binary) )\n",
    "\n",
    "    fpr, tpr, thresholds = roc_curve(test_labels, target_predicted_binary)\n",
    "    roc_auc = auc(fpr, tpr)\n",
    "\n",
    "    plt.figure()\n",
    "    plt.plot(fpr, tpr, label='ROC curve (area = %0.2f)' % (roc_auc))\n",
    "    plt.plot([0, 1], [0, 1], 'k--')\n",
    "    plt.xlim([0.0, 1.0])\n",
    "    plt.ylim([0.0, 1.05])\n",
    "    plt.xlabel('False Positive Rate')\n",
    "    plt.ylabel('True Positive Rate')\n",
    "    plt.title('Receiver operating characteristic')\n",
    "    plt.legend(loc=\"lower right\")\n",
    "\n",
    "    # create the axis of thresholds (scores)\n",
    "    ax2 = plt.gca().twinx()\n",
    "    ax2.plot(fpr, thresholds, markeredgecolor='r',linestyle='dashed', color='r')\n",
    "    ax2.set_ylabel('Threshold',color='r')\n",
    "    ax2.set_ylim([thresholds[-1],thresholds[0]])\n",
    "    ax2.set_xlim([fpr[0],fpr[-1]])\n",
    "\n",
    "    print(plt.figure())\n",
    "\n",
    "def plot_confusion_matrix(test_labels, target_predicted):\n",
    "    matrix = confusion_matrix(test_labels, target_predicted)\n",
    "    df_confusion = pd.DataFrame(matrix)\n",
    "    colormap = sns.color_palette(\"BrBG\", 10)\n",
    "    sns.heatmap(df_confusion, annot=True, fmt='.2f', cbar=None, cmap=colormap)\n",
    "    plt.title(\"Confusion Matrix\")\n",
    "    plt.tight_layout()\n",
    "    plt.ylabel(\"True Class\")\n",
    "    plt.xlabel(\"Predicted Class\")\n",
    "    plt.show()\n",
    "    \n",
    "\n",
    "f_zip = 'http://archive.ics.uci.edu/ml/machine-learning-databases/00212/vertebral_column_data.zip'\n",
    "r = requests.get(f_zip, stream=True)\n",
    "Vertebral_zip = zipfile.ZipFile(io.BytesIO(r.content))\n",
    "Vertebral_zip.extractall()\n",
    "\n",
    "data = arff.loadarff('column_2C_weka.arff')\n",
    "df = pd.DataFrame(data[0])\n",
    "\n",
    "class_mapper = {b'Abnormal':1,b'Normal':0}\n",
    "df['class']=df['class'].replace(class_mapper)\n",
    "\n",
    "cols = df.columns.tolist()\n",
    "cols = cols[-1:] + cols[:-1]\n",
    "df = df[cols]\n",
    "\n",
    "train, test_and_validate = train_test_split(df, test_size=0.2, random_state=42, stratify=df['class'])\n",
    "test, validate = train_test_split(test_and_validate, test_size=0.5, random_state=42, stratify=test_and_validate['class'])\n",
    "\n",
    "prefix='lab3'\n",
    "\n",
    "train_file='vertebral_train.csv'\n",
    "test_file='vertebral_test.csv'\n",
    "validate_file='vertebral_validate.csv'\n",
    "\n",
    "s3_resource = boto3.Session().resource('s3')\n",
    "def upload_s3_csv(filename, folder, dataframe):\n",
    "    csv_buffer = io.StringIO()\n",
    "    dataframe.to_csv(csv_buffer, header=False, index=False )\n",
    "    s3_resource.Bucket(bucket).Object(os.path.join(prefix, folder, filename)).put(Body=csv_buffer.getvalue())\n",
    "\n",
    "upload_s3_csv(train_file, 'train', train)\n",
    "upload_s3_csv(test_file, 'test', test)\n",
    "upload_s3_csv(validate_file, 'validate', validate)\n",
    "\n",
    "container = retrieve('xgboost',boto3.Session().region_name,'1.0-1')\n",
    "\n",
    "hyperparams={\"num_round\":\"42\",\n",
    "             \"eval_metric\": \"auc\",\n",
    "             \"objective\": \"binary:logistic\",\n",
    "             \"silent\" : 1}\n",
    "\n",
    "s3_output_location=\"s3://{}/{}/output/\".format(bucket,prefix)\n",
    "xgb_model=sagemaker.estimator.Estimator(container,\n",
    "                                       sagemaker.get_execution_role(),\n",
    "                                       instance_count=1,\n",
    "                                       instance_type='ml.m5.2xlarge',\n",
    "                                       output_path=s3_output_location,\n",
    "                                        hyperparameters=hyperparams,\n",
    "                                        sagemaker_session=sagemaker.Session())\n",
    "\n",
    "train_channel = sagemaker.inputs.TrainingInput(\n",
    "    \"s3://{}/{}/train/\".format(bucket,prefix,train_file),\n",
    "    content_type='text/csv')\n",
    "\n",
    "validate_channel = sagemaker.inputs.TrainingInput(\n",
    "    \"s3://{}/{}/validate/\".format(bucket,prefix,validate_file),\n",
    "    content_type='text/csv')\n",
    "\n",
    "data_channels = {'train': train_channel, 'validation': validate_channel}\n",
    "\n",
    "xgb_model.fit(inputs=data_channels, logs=False)\n",
    "\n",
    "batch_X = test.iloc[:,1:];\n",
    "\n",
    "batch_X_file='batch-in.csv'\n",
    "upload_s3_csv(batch_X_file, 'batch-in', batch_X)\n",
    "\n",
    "batch_output = \"s3://{}/{}/batch-out/\".format(bucket,prefix)\n",
    "batch_input = \"s3://{}/{}/batch-in/{}\".format(bucket,prefix,batch_X_file)\n",
    "\n",
    "xgb_transformer = xgb_model.transformer(instance_count=1,\n",
    "                                       instance_type='ml.m5.2xlarge',\n",
    "                                       strategy='MultiRecord',\n",
    "                                       assemble_with='Line',\n",
    "                                       output_path=batch_output)\n",
    "\n",
    "xgb_transformer.transform(data=batch_input,\n",
    "                         data_type='S3Prefix',\n",
    "                         content_type='text/csv',\n",
    "                         split_type='Line')\n",
    "xgb_transformer.wait(logs=False)"
   ]
  },
  {
   "cell_type": "markdown",
   "metadata": {},
   "source": [
    "# Step 1: Getting model statistics"
   ]
  },
  {
   "cell_type": "markdown",
   "metadata": {},
   "source": [
    "Before you tune the model, re-familiarize yourself with the current model's metrics.\n",
    "\n",
    "The setup performed a batch prediction, so you must read in the results from Amazon Simple Storage Service (Amazon S3)."
   ]
  },
  {
   "cell_type": "code",
   "execution_count": 4,
   "metadata": {},
   "outputs": [],
   "source": [
    "s3 = boto3.client('s3')\n",
    "obj = s3.get_object(Bucket=bucket, Key=\"{}/batch-out/{}\".format(prefix,'batch-in.csv.out'))\n",
    "target_predicted = pd.read_csv(io.BytesIO(obj['Body'].read()),',',names=['class'])\n",
    "\n",
    "def binary_convert(x):\n",
    "    threshold = 0.5\n",
    "    if x > threshold:\n",
    "        return 1\n",
    "    else:\n",
    "        return 0\n",
    "\n",
    "target_predicted_binary = target_predicted['class'].apply(binary_convert)\n",
    "test_labels = test.iloc[:,0]\n",
    "\n"
   ]
  },
  {
   "cell_type": "markdown",
   "metadata": {},
   "source": [
    "Plot the confusion matrix and the receiver operating characteristic (ROC) curve for the original model.\n"
   ]
  },
  {
   "cell_type": "code",
   "execution_count": 5,
   "metadata": {},
   "outputs": [
    {
     "data": {
      "image/png": "[encoded data removed]",
      "text/plain": [
       "<Figure size 432x288 with 1 Axes>"
      ]
     },
     "metadata": {
      "needs_background": "light"
     },
     "output_type": "display_data"
    }
   ],
   "source": [
    "plot_confusion_matrix(test_labels, target_predicted_binary)"
   ]
  },
  {
   "cell_type": "code",
   "execution_count": 6,
   "metadata": {},
   "outputs": [
    {
     "name": "stdout",
     "output_type": "stream",
     "text": [
      "Sensitivity or TPR: 90.47619047619048%\n",
      "Specificity or TNR: 70.0%\n",
      "Precision: 86.36363636363636%\n",
      "Negative Predictive Value: 77.77777777777779%\n",
      "False Positive Rate: 30.0%\n",
      "False Negative Rate: 9.523809523809524%\n",
      "False Discovery Rate: 13.636363636363635%\n",
      "Accuracy: 83.87096774193549%\n",
      "Validation AUC 0.8023809523809523\n",
      "Figure(432x288)\n"
     ]
    },
    {
     "data": {
      "image/png": "[encoded data removed]",
      "text/plain": [
       "<Figure size 432x288 with 2 Axes>"
      ]
     },
     "metadata": {
      "needs_background": "light"
     },
     "output_type": "display_data"
    },
    {
     "data": {
      "text/plain": [
       "<Figure size 432x288 with 0 Axes>"
      ]
     },
     "metadata": {},
     "output_type": "display_data"
    }
   ],
   "source": [
    "plot_roc(test_labels, target_predicted_binary)"
   ]
  },
  {
   "cell_type": "markdown",
   "metadata": {},
   "source": [
    "This plot gives you a starting point. Make a note of the *Validation area under the curve (AUC)*. You will use it later to check your tuned model to see if it's better. "
   ]
  },
  {
   "cell_type": "markdown",
   "metadata": {},
   "source": [
    "# Step 2: Creating a hyperparameter tuning job\n",
    "\n",
    "A hyperparameter tuning job can take several hours to complete, depending on the value ranges that you provide. To simplify this task, the parameters used in this step are a subset of the recommended ranges. They were tuned to give good results in this lab, without taking multiple hours to complete.\n",
    "\n",
    "For more information about the parameters to tune for XGBoost, see [Tune an XGBoost Model](https://docs.aws.amazon.com/sagemaker/latest/dg/xgboost-tuning.html) in the AWS Documentation."
   ]
  },
  {
   "cell_type": "markdown",
   "metadata": {},
   "source": [
    "Because this next cell can take time to finish, go ahead and run the cell. You will examine what's happening, and why these hyperparameter ranges were chosen."
   ]
  },
  {
   "cell_type": "code",
   "execution_count": 7,
   "metadata": {},
   "outputs": [
    {
     "name": "stdout",
     "output_type": "stream",
     "text": [
      ".....................................................................................................................................................................................................................................................................................................................................................................................................................................................................................................................................................................................................................................................!\n",
      "!\n",
      "CPU times: user 3.03 s, sys: 290 ms, total: 3.32 s\n",
      "Wall time: 53min 7s\n"
     ]
    }
   ],
   "source": [
    "%%time\n",
    "from sagemaker.tuner import IntegerParameter, CategoricalParameter, ContinuousParameter, HyperparameterTuner\n",
    "\n",
    "xgb = sagemaker.estimator.Estimator(container,\n",
    "                                    role=sagemaker.get_execution_role(), \n",
    "                                    instance_count= 1, # make sure you have limit set for these instances\n",
    "                                    instance_type='ml.m4.xlarge', \n",
    "                                    output_path='s3://{}/{}/output'.format(bucket, prefix),\n",
    "                                    sagemaker_session=sagemaker.Session())\n",
    "\n",
    "\n",
    "xgb.set_hyperparameters(eval_metric='error@.40',\n",
    "                        objective='binary:logistic',\n",
    "                        num_round=42)\n",
    "\n",
    "hyperparameter_ranges = {'alpha': ContinuousParameter(0, 100),\n",
    "                         'min_child_weight': ContinuousParameter(1, 5),\n",
    "                         'subsample': ContinuousParameter(0.5, 1),\n",
    "                         'eta': ContinuousParameter(0.1, 0.3),  \n",
    "                         'num_round': IntegerParameter(1,50)\n",
    "                         }\n",
    "\n",
    "objective_metric_name = 'validation:error'\n",
    "objective_type = 'Minimize'\n",
    "\n",
    "tuner = HyperparameterTuner(xgb,\n",
    "                            objective_metric_name,\n",
    "                            hyperparameter_ranges,\n",
    "                            max_jobs=10, # Set this to 10 or above depending upon budget & available time.\n",
    "                            max_parallel_jobs=1,\n",
    "                            objective_type=objective_type,\n",
    "                            early_stopping_type='Auto')\n",
    "\n",
    "tuner.fit(inputs=data_channels, include_cls_metadata=False)\n",
    "tuner.wait()"
   ]
  },
  {
   "cell_type": "markdown",
   "metadata": {},
   "source": [
    "First, you will create the model that you want to tune.\n",
    "\n",
    "```\n",
    "xgb = sagemaker.estimator.Estimator(container,\n",
    "                                   role=sagemaker.get_execution_role(), \n",
    "                                   instance_count= 1, # make sure you have limit set for these instances\n",
    "                                   instance_type='ml.m4.xlarge', \n",
    "                                   output_path='s3://{}/{}/output'.format(bucket, prefix),\n",
    "                                   sagemaker_session=sagemaker.Session())\n",
    "\n",
    "xgb.set_hyperparameters(eval_metric='[error@.40]',\n",
    "                        objective='binary:logistic',\n",
    "                        num_round=42)\n",
    "\n",
    "```                        \n",
    "\n",
    "Notice that the *eval_metric* of the model was changed to *error@.40*, with a goal of minimizing that value. \n",
    "\n",
    "**error** is the binary classification error rate. It's calculated as *#(wrong cases)/#(all cases)*. For predictions, the evaluation will consider the instances that have a prediction value larger than 0.4 to be positive instances, and the others as negative instances.\n",
    "\n",
    "Next, you must specify the hyperparameters that you want to tune, in addition to the ranges that you must select for each parameter.\n",
    "\n",
    "The hyperparameters that have the largest effect on XGBoost objective metrics are: \n",
    "\n",
    "- alpha\n",
    "- min_child_weight\n",
    "- subsample\n",
    "- eta\n",
    "- num_round \n",
    "\n",
    "The recommended tuning ranges can be found in the AWS Documentation at [Tune an XGBoost Model](https://docs.aws.amazon.com/sagemaker/latest/dg/xgboost-tuning.html).\n",
    "\n",
    "For this lab, you will use a *subset* of values. These values were obtained by running the tuning job with the full range, then minimizing the range so that you can use fewer iterations to get better performance. Though this practice isn't strictly realistic, it prevents you from waiting several hours in this lab for the tuning job to complete.\n",
    "\n",
    "```\n",
    "hyperparameter_ranges = {'alpha': ContinuousParameter(0, 100),\n",
    "                         'min_child_weight': ContinuousParameter(1, 5),\n",
    "                         'subsample': ContinuousParameter(0.5, 1),\n",
    "                         'eta': ContinuousParameter(0.1, 0.3),  \n",
    "                         'num_round': IntegerParameter(1,50)\n",
    "                         }\n",
    "```\n",
    "\n",
    "\n",
    "You must specify how you are rating the model. You could use several different objective metrics, a subset of which applies to a binary classifcation problem. Because the evaluation metric is **error**, you set the objective to *error*.\n",
    "\n",
    "```\n",
    "objective_metric_name = 'validation:error'\n",
    "objective_type = 'Minimize'\n",
    "```\n",
    "\n",
    "Finally, you run the tuning job.\n",
    "\n",
    "```\n",
    "tuner = HyperparameterTuner(xgb,\n",
    "                            objective_metric_name,\n",
    "                            hyperparameter_ranges,\n",
    "                            max_jobs=10, # Set this to 10 or above depending upon budget & available time.\n",
    "                            max_parallel_jobs=1,\n",
    "                            objective_type=objective_type,\n",
    "                            early_stopping_type='Auto')\n",
    "\n",
    "tuner.fit(inputs=data_channels, include_cls_metadata=False)\n",
    "tuner.wait()\n",
    "```\n",
    "\n"
   ]
  },
  {
   "cell_type": "markdown",
   "metadata": {},
   "source": [
    "<i class=\"fas fa-exclamation-triangle\" style=\"color:red\"></i> Wait until the training job is finished. It might take 15-25 minutes. While you are waiting, observe the job status in the console, as described in the following instructions.\n",
    "\n",
    "**To monitor hyperparameter optimization jobs:**  \n",
    "\n",
    "1. In the AWS Management Console, on the **Services** menu, choose **Amazon SageMaker**.  \n",
    "2. Choose **Training > Hyperparameter tuning jobs**.  \n",
    "3. You can check the status of each hyperparameter tuning job, its objective metric value, and its logs.  "
   ]
  },
  {
   "cell_type": "markdown",
   "metadata": {},
   "source": [
    "After the training job is finished, check the job and make sure that it completed successfully."
   ]
  },
  {
   "cell_type": "code",
   "execution_count": 8,
   "metadata": {},
   "outputs": [
    {
     "data": {
      "text/plain": [
       "'Completed'"
      ]
     },
     "execution_count": 8,
     "metadata": {},
     "output_type": "execute_result"
    }
   ],
   "source": [
    "boto3.client('sagemaker').describe_hyper_parameter_tuning_job(\n",
    "    HyperParameterTuningJobName=tuner.latest_tuning_job.job_name)['HyperParameterTuningJobStatus']"
   ]
  },
  {
   "cell_type": "markdown",
   "metadata": {},
   "source": [
    "# Step 3: Investigating the tuning job results\n",
    "\n",
    "Now that the job is complete, there should be 10 completed jobs. One of the jobs should be marked as the best.\n",
    "\n",
    "You can examine the metrics by getting *HyperparameterTuningJobAnalytics* and loading that data into a pandas DataFrame.\n"
   ]
  },
  {
   "cell_type": "code",
   "execution_count": 9,
   "metadata": {},
   "outputs": [
    {
     "data": {
      "text/html": [
       "<div>\n",
       "<style scoped>\n",
       "    .dataframe tbody tr th:only-of-type {\n",
       "        vertical-align: middle;\n",
       "    }\n",
       "\n",
       "    .dataframe tbody tr th {\n",
       "        vertical-align: top;\n",
       "    }\n",
       "\n",
       "    .dataframe thead th {\n",
       "        text-align: right;\n",
       "    }\n",
       "</style>\n",
       "<table border=\"1\" class=\"dataframe\">\n",
       "  <thead>\n",
       "    <tr style=\"text-align: right;\">\n",
       "      <th></th>\n",
       "      <th>alpha</th>\n",
       "      <th>eta</th>\n",
       "      <th>min_child_weight</th>\n",
       "      <th>num_round</th>\n",
       "      <th>subsample</th>\n",
       "      <th>TrainingJobName</th>\n",
       "      <th>TrainingJobStatus</th>\n",
       "      <th>FinalObjectiveValue</th>\n",
       "      <th>TrainingStartTime</th>\n",
       "      <th>TrainingEndTime</th>\n",
       "      <th>TrainingElapsedTimeSeconds</th>\n",
       "    </tr>\n",
       "  </thead>\n",
       "  <tbody>\n",
       "    <tr>\n",
       "      <th>2</th>\n",
       "      <td>0.000000</td>\n",
       "      <td>0.137058</td>\n",
       "      <td>3.813860</td>\n",
       "      <td>46.0</td>\n",
       "      <td>0.681482</td>\n",
       "      <td>sagemaker-xgboost-211209-2227-008-b6500050</td>\n",
       "      <td>Completed</td>\n",
       "      <td>0.06452</td>\n",
       "      <td>2021-12-09 23:08:39+00:00</td>\n",
       "      <td>2021-12-09 23:09:55+00:00</td>\n",
       "      <td>76.0</td>\n",
       "    </tr>\n",
       "    <tr>\n",
       "      <th>0</th>\n",
       "      <td>0.000000</td>\n",
       "      <td>0.213279</td>\n",
       "      <td>4.283587</td>\n",
       "      <td>50.0</td>\n",
       "      <td>0.500000</td>\n",
       "      <td>sagemaker-xgboost-211209-2227-010-4ecbee06</td>\n",
       "      <td>Completed</td>\n",
       "      <td>0.09677</td>\n",
       "      <td>2021-12-09 23:18:24+00:00</td>\n",
       "      <td>2021-12-09 23:19:44+00:00</td>\n",
       "      <td>80.0</td>\n",
       "    </tr>\n",
       "    <tr>\n",
       "      <th>3</th>\n",
       "      <td>2.710418</td>\n",
       "      <td>0.159489</td>\n",
       "      <td>3.776463</td>\n",
       "      <td>19.0</td>\n",
       "      <td>0.537424</td>\n",
       "      <td>sagemaker-xgboost-211209-2227-007-fff46cf4</td>\n",
       "      <td>Completed</td>\n",
       "      <td>0.09677</td>\n",
       "      <td>2021-12-09 23:02:59+00:00</td>\n",
       "      <td>2021-12-09 23:05:04+00:00</td>\n",
       "      <td>125.0</td>\n",
       "    </tr>\n",
       "    <tr>\n",
       "      <th>5</th>\n",
       "      <td>0.922088</td>\n",
       "      <td>0.122831</td>\n",
       "      <td>4.282566</td>\n",
       "      <td>1.0</td>\n",
       "      <td>0.640054</td>\n",
       "      <td>sagemaker-xgboost-211209-2227-005-cc2ac434</td>\n",
       "      <td>Completed</td>\n",
       "      <td>0.16129</td>\n",
       "      <td>2021-12-09 22:52:01+00:00</td>\n",
       "      <td>2021-12-09 22:53:20+00:00</td>\n",
       "      <td>79.0</td>\n",
       "    </tr>\n",
       "    <tr>\n",
       "      <th>1</th>\n",
       "      <td>12.137298</td>\n",
       "      <td>0.100000</td>\n",
       "      <td>4.329485</td>\n",
       "      <td>14.0</td>\n",
       "      <td>0.620935</td>\n",
       "      <td>sagemaker-xgboost-211209-2227-009-f8151e6c</td>\n",
       "      <td>Completed</td>\n",
       "      <td>0.19355</td>\n",
       "      <td>2021-12-09 23:13:48+00:00</td>\n",
       "      <td>2021-12-09 23:15:02+00:00</td>\n",
       "      <td>74.0</td>\n",
       "    </tr>\n",
       "    <tr>\n",
       "      <th>6</th>\n",
       "      <td>15.884856</td>\n",
       "      <td>0.245233</td>\n",
       "      <td>3.071184</td>\n",
       "      <td>31.0</td>\n",
       "      <td>0.597915</td>\n",
       "      <td>sagemaker-xgboost-211209-2227-004-7b549c59</td>\n",
       "      <td>Completed</td>\n",
       "      <td>0.19355</td>\n",
       "      <td>2021-12-09 22:46:53+00:00</td>\n",
       "      <td>2021-12-09 22:48:13+00:00</td>\n",
       "      <td>80.0</td>\n",
       "    </tr>\n",
       "    <tr>\n",
       "      <th>8</th>\n",
       "      <td>2.631072</td>\n",
       "      <td>0.279663</td>\n",
       "      <td>4.001238</td>\n",
       "      <td>1.0</td>\n",
       "      <td>0.755045</td>\n",
       "      <td>sagemaker-xgboost-211209-2227-002-dc9e3623</td>\n",
       "      <td>Completed</td>\n",
       "      <td>0.19355</td>\n",
       "      <td>2021-12-09 22:36:04+00:00</td>\n",
       "      <td>2021-12-09 22:37:26+00:00</td>\n",
       "      <td>82.0</td>\n",
       "    </tr>\n",
       "    <tr>\n",
       "      <th>4</th>\n",
       "      <td>14.993743</td>\n",
       "      <td>0.180759</td>\n",
       "      <td>3.721165</td>\n",
       "      <td>1.0</td>\n",
       "      <td>0.550989</td>\n",
       "      <td>sagemaker-xgboost-211209-2227-006-6dfdea6b</td>\n",
       "      <td>Completed</td>\n",
       "      <td>0.22581</td>\n",
       "      <td>2021-12-09 22:58:28+00:00</td>\n",
       "      <td>2021-12-09 22:59:51+00:00</td>\n",
       "      <td>83.0</td>\n",
       "    </tr>\n",
       "    <tr>\n",
       "      <th>9</th>\n",
       "      <td>9.795623</td>\n",
       "      <td>0.120754</td>\n",
       "      <td>1.780086</td>\n",
       "      <td>2.0</td>\n",
       "      <td>0.831639</td>\n",
       "      <td>sagemaker-xgboost-211209-2227-001-f812e29d</td>\n",
       "      <td>Completed</td>\n",
       "      <td>0.22581</td>\n",
       "      <td>2021-12-09 22:30:40+00:00</td>\n",
       "      <td>2021-12-09 22:31:58+00:00</td>\n",
       "      <td>78.0</td>\n",
       "    </tr>\n",
       "    <tr>\n",
       "      <th>7</th>\n",
       "      <td>73.320037</td>\n",
       "      <td>0.285986</td>\n",
       "      <td>4.657000</td>\n",
       "      <td>6.0</td>\n",
       "      <td>0.994232</td>\n",
       "      <td>sagemaker-xgboost-211209-2227-003-f9593295</td>\n",
       "      <td>Completed</td>\n",
       "      <td>0.67742</td>\n",
       "      <td>2021-12-09 22:41:06+00:00</td>\n",
       "      <td>2021-12-09 22:42:38+00:00</td>\n",
       "      <td>92.0</td>\n",
       "    </tr>\n",
       "  </tbody>\n",
       "</table>\n",
       "</div>"
      ],
      "text/plain": [
       "       alpha       eta  min_child_weight  num_round  subsample  \\\n",
       "2   0.000000  0.137058          3.813860       46.0   0.681482   \n",
       "0   0.000000  0.213279          4.283587       50.0   0.500000   \n",
       "3   2.710418  0.159489          3.776463       19.0   0.537424   \n",
       "5   0.922088  0.122831          4.282566        1.0   0.640054   \n",
       "1  12.137298  0.100000          4.329485       14.0   0.620935   \n",
       "6  15.884856  0.245233          3.071184       31.0   0.597915   \n",
       "8   2.631072  0.279663          4.001238        1.0   0.755045   \n",
       "4  14.993743  0.180759          3.721165        1.0   0.550989   \n",
       "9   9.795623  0.120754          1.780086        2.0   0.831639   \n",
       "7  73.320037  0.285986          4.657000        6.0   0.994232   \n",
       "\n",
       "                              TrainingJobName TrainingJobStatus  \\\n",
       "2  sagemaker-xgboost-211209-2227-008-b6500050         Completed   \n",
       "0  sagemaker-xgboost-211209-2227-010-4ecbee06         Completed   \n",
       "3  sagemaker-xgboost-211209-2227-007-fff46cf4         Completed   \n",
       "5  sagemaker-xgboost-211209-2227-005-cc2ac434         Completed   \n",
       "1  sagemaker-xgboost-211209-2227-009-f8151e6c         Completed   \n",
       "6  sagemaker-xgboost-211209-2227-004-7b549c59         Completed   \n",
       "8  sagemaker-xgboost-211209-2227-002-dc9e3623         Completed   \n",
       "4  sagemaker-xgboost-211209-2227-006-6dfdea6b         Completed   \n",
       "9  sagemaker-xgboost-211209-2227-001-f812e29d         Completed   \n",
       "7  sagemaker-xgboost-211209-2227-003-f9593295         Completed   \n",
       "\n",
       "   FinalObjectiveValue         TrainingStartTime           TrainingEndTime  \\\n",
       "2              0.06452 2021-12-09 23:08:39+00:00 2021-12-09 23:09:55+00:00   \n",
       "0              0.09677 2021-12-09 23:18:24+00:00 2021-12-09 23:19:44+00:00   \n",
       "3              0.09677 2021-12-09 23:02:59+00:00 2021-12-09 23:05:04+00:00   \n",
       "5              0.16129 2021-12-09 22:52:01+00:00 2021-12-09 22:53:20+00:00   \n",
       "1              0.19355 2021-12-09 23:13:48+00:00 2021-12-09 23:15:02+00:00   \n",
       "6              0.19355 2021-12-09 22:46:53+00:00 2021-12-09 22:48:13+00:00   \n",
       "8              0.19355 2021-12-09 22:36:04+00:00 2021-12-09 22:37:26+00:00   \n",
       "4              0.22581 2021-12-09 22:58:28+00:00 2021-12-09 22:59:51+00:00   \n",
       "9              0.22581 2021-12-09 22:30:40+00:00 2021-12-09 22:31:58+00:00   \n",
       "7              0.67742 2021-12-09 22:41:06+00:00 2021-12-09 22:42:38+00:00   \n",
       "\n",
       "   TrainingElapsedTimeSeconds  \n",
       "2                        76.0  \n",
       "0                        80.0  \n",
       "3                       125.0  \n",
       "5                        79.0  \n",
       "1                        74.0  \n",
       "6                        80.0  \n",
       "8                        82.0  \n",
       "4                        83.0  \n",
       "9                        78.0  \n",
       "7                        92.0  "
      ]
     },
     "execution_count": 9,
     "metadata": {},
     "output_type": "execute_result"
    }
   ],
   "source": [
    "from pprint import pprint\n",
    "from sagemaker.analytics import HyperparameterTuningJobAnalytics\n",
    "\n",
    "tuner_analytics = HyperparameterTuningJobAnalytics(tuner.latest_tuning_job.name, sagemaker_session=sagemaker.Session())\n",
    "\n",
    "df_tuning_job_analytics = tuner_analytics.dataframe()\n",
    "\n",
    "# Sort the tuning job analytics by the final metrics value\n",
    "df_tuning_job_analytics.sort_values(\n",
    "    by=['FinalObjectiveValue'],\n",
    "    inplace=True,\n",
    "    ascending=False if tuner.objective_type == \"Maximize\" else True)\n",
    "\n",
    "# Show detailed analytics for the top 20 models\n",
    "df_tuning_job_analytics.head(20)\n"
   ]
  },
  {
   "cell_type": "markdown",
   "metadata": {},
   "source": [
    "You should be able to see the hyperparameters that were used for each job, along with the score. You could use those parameters and create a model, or you can get the best model from the hyperparameter tuning job."
   ]
  },
  {
   "cell_type": "code",
   "execution_count": 10,
   "metadata": {},
   "outputs": [],
   "source": [
    "attached_tuner = HyperparameterTuner.attach(tuner.latest_tuning_job.name, sagemaker_session=sagemaker.Session())\n",
    "best_training_job = attached_tuner.best_training_job()"
   ]
  },
  {
   "cell_type": "markdown",
   "metadata": {},
   "source": [
    "Now, you must attach to the best training job and create the model."
   ]
  },
  {
   "cell_type": "code",
   "execution_count": 11,
   "metadata": {},
   "outputs": [
    {
     "name": "stdout",
     "output_type": "stream",
     "text": [
      "\n",
      "2021-12-09 23:09:55 Starting - Preparing the instances for training\n",
      "2021-12-09 23:09:55 Downloading - Downloading input data\n",
      "2021-12-09 23:09:55 Training - Training image download completed. Training in progress.\n",
      "2021-12-09 23:09:55 Uploading - Uploading generated training model\n",
      "2021-12-09 23:09:55 Completed - Training job completed\n"
     ]
    }
   ],
   "source": [
    "from sagemaker.estimator import Estimator\n",
    "algo_estimator = Estimator.attach(best_training_job)\n",
    "\n",
    "best_algo_model = algo_estimator.create_model(env={'SAGEMAKER_DEFAULT_INVOCATIONS_ACCEPT':\"text/csv\"})"
   ]
  },
  {
   "cell_type": "markdown",
   "metadata": {},
   "source": [
    "Then, you can use the transform method to perform a batch prediction by using your testing data. Remember that the testing data is data that the model has never seen before."
   ]
  },
  {
   "cell_type": "code",
   "execution_count": 12,
   "metadata": {},
   "outputs": [
    {
     "name": "stdout",
     "output_type": "stream",
     "text": [
      "....................................\u001b[34m[2021-12-09:23:28:20:INFO] No GPUs detected (normal if no gpus installed)\u001b[0m\n",
      "\u001b[34m[2021-12-09:23:28:20:INFO] No GPUs detected (normal if no gpus installed)\u001b[0m\n",
      "\u001b[34m[2021-12-09:23:28:20:INFO] nginx config: \u001b[0m\n",
      "\u001b[34mworker_processes auto;\u001b[0m\n",
      "\u001b[34mdaemon off;\u001b[0m\n",
      "\u001b[34mpid /tmp/nginx.pid;\u001b[0m\n",
      "\u001b[34merror_log  /dev/stderr;\u001b[0m\n",
      "\u001b[34mworker_rlimit_nofile 4096;\u001b[0m\n",
      "\u001b[34mevents {\n",
      "  worker_connections 2048;\u001b[0m\n",
      "\u001b[34m}\u001b[0m\n",
      "\u001b[34mhttp {\n",
      "  include /etc/nginx/mime.types;\n",
      "  default_type application/octet-stream;\n",
      "  access_log /dev/stdout combined;\n",
      "  upstream gunicorn {\n",
      "    server unix:/tmp/gunicorn.sock;\n",
      "  }\n",
      "  server {\n",
      "    listen 8080 deferred;\n",
      "    client_max_body_size 0;\n",
      "    keepalive_timeout 3;\n",
      "    location ~ ^/(ping|invocations|execution-parameters) {\n",
      "      proxy_set_header X-Forwarded-For $proxy_add_x_forwarded_for;\n",
      "      proxy_set_header Host $http_host;\n",
      "      proxy_redirect off;\n",
      "      proxy_read_timeout 60s;\n",
      "      proxy_pass http://gunicorn;\n",
      "    }\n",
      "    location / {\n",
      "      return 404 \"{}\";\n",
      "    }\n",
      "  }\u001b[0m\n",
      "\u001b[34m}\u001b[0m\n",
      "\u001b[34m[2021-12-09 23:28:20 +0000] [18] [INFO] Starting gunicorn 19.10.0\u001b[0m\n",
      "\u001b[34m[2021-12-09 23:28:20 +0000] [18] [INFO] Listening at: unix:/tmp/gunicorn.sock (18)\u001b[0m\n",
      "\u001b[34m[2021-12-09 23:28:20 +0000] [18] [INFO] Using worker: gevent\u001b[0m\n",
      "\u001b[34m[2021-12-09 23:28:20 +0000] [25] [INFO] Booting worker with pid: 25\u001b[0m\n",
      "\u001b[34m[2021-12-09 23:28:20 +0000] [26] [INFO] Booting worker with pid: 26\u001b[0m\n",
      "\u001b[34m[2021-12-09 23:28:20 +0000] [27] [INFO] Booting worker with pid: 27\u001b[0m\n",
      "\u001b[34m[2021-12-09 23:28:20 +0000] [28] [INFO] Booting worker with pid: 28\u001b[0m\n",
      "\u001b[34m[2021-12-09:23:28:26:INFO] No GPUs detected (normal if no gpus installed)\u001b[0m\n",
      "\u001b[34m169.254.255.130 - - [09/Dec/2021:23:28:26 +0000] \"GET /ping HTTP/1.1\" 200 0 \"-\" \"Go-http-client/1.1\"\u001b[0m\n",
      "\u001b[34m169.254.255.130 - - [09/Dec/2021:23:28:26 +0000] \"GET /execution-parameters HTTP/1.1\" 200 84 \"-\" \"Go-http-client/1.1\"\u001b[0m\n",
      "\u001b[34m[2021-12-09:23:28:26:INFO] Determined delimiter of CSV input is ','\u001b[0m\n",
      "\u001b[34m169.254.255.130 - - [09/Dec/2021:23:28:26 +0000] \"POST /invocations HTTP/1.1\" 200 590 \"-\" \"Go-http-client/1.1\"\u001b[0m\n",
      "\u001b[35m[2021-12-09:23:28:26:INFO] No GPUs detected (normal if no gpus installed)\u001b[0m\n",
      "\u001b[35m169.254.255.130 - - [09/Dec/2021:23:28:26 +0000] \"GET /ping HTTP/1.1\" 200 0 \"-\" \"Go-http-client/1.1\"\u001b[0m\n",
      "\u001b[35m169.254.255.130 - - [09/Dec/2021:23:28:26 +0000] \"GET /execution-parameters HTTP/1.1\" 200 84 \"-\" \"Go-http-client/1.1\"\u001b[0m\n",
      "\u001b[35m[2021-12-09:23:28:26:INFO] Determined delimiter of CSV input is ','\u001b[0m\n",
      "\u001b[35m169.254.255.130 - - [09/Dec/2021:23:28:26 +0000] \"POST /invocations HTTP/1.1\" 200 590 \"-\" \"Go-http-client/1.1\"\u001b[0m\n",
      "\u001b[32m2021-12-09T23:28:26.815:[sagemaker logs]: MaxConcurrentTransforms=4, MaxPayloadInMB=6, BatchStrategy=MULTI_RECORD\u001b[0m\n",
      "\n",
      "!\n",
      "CPU times: user 811 ms, sys: 31.3 ms, total: 842 ms\n",
      "Wall time: 7min 3s\n"
     ]
    }
   ],
   "source": [
    "%%time\n",
    "batch_output = \"s3://{}/{}/batch-out/\".format(bucket,prefix)\n",
    "batch_input = \"s3://{}/{}/batch-in/{}\".format(bucket,prefix,batch_X_file)\n",
    "\n",
    "xgb_transformer = best_algo_model.transformer(instance_count=1,\n",
    "                                       instance_type='ml.m4.xlarge',\n",
    "                                       strategy='MultiRecord',\n",
    "                                       assemble_with='Line',\n",
    "                                       output_path=batch_output)\n",
    "\n",
    "\n",
    "xgb_transformer.transform(data=batch_input,\n",
    "                         data_type='S3Prefix',\n",
    "                         content_type='text/csv',\n",
    "                         split_type='Line')\n",
    "xgb_transformer.wait(logs=False)"
   ]
  },
  {
   "cell_type": "markdown",
   "metadata": {},
   "source": [
    "Get the predicted target and the test labels of the model."
   ]
  },
  {
   "cell_type": "code",
   "execution_count": 13,
   "metadata": {},
   "outputs": [],
   "source": [
    "s3 = boto3.client('s3')\n",
    "obj = s3.get_object(Bucket=bucket, Key=\"{}/batch-out/{}\".format(prefix,'batch-in.csv.out'))\n",
    "best_target_predicted = pd.read_csv(io.BytesIO(obj['Body'].read()),',',names=['class'])\n",
    "\n",
    "def binary_convert(x):\n",
    "    threshold = 0.5\n",
    "    if x > threshold:\n",
    "        return 1\n",
    "    else:\n",
    "        return 0\n",
    "\n",
    "best_target_predicted_binary = best_target_predicted['class'].apply(binary_convert)\n",
    "test_labels = test.iloc[:,0]"
   ]
  },
  {
   "cell_type": "markdown",
   "metadata": {},
   "source": [
    "Plot a confusion matrix for your `best_target_predicted` and `test_labels`."
   ]
  },
  {
   "cell_type": "code",
   "execution_count": 14,
   "metadata": {},
   "outputs": [
    {
     "data": {
      "image/png": "[encoded data removed]",
      "text/plain": [
       "<Figure size 432x288 with 1 Axes>"
      ]
     },
     "metadata": {
      "needs_background": "light"
     },
     "output_type": "display_data"
    }
   ],
   "source": [
    "plot_confusion_matrix(test_labels, best_target_predicted_binary)"
   ]
  },
  {
   "cell_type": "markdown",
   "metadata": {},
   "source": [
    "Plot the ROC chart."
   ]
  },
  {
   "cell_type": "code",
   "execution_count": 15,
   "metadata": {},
   "outputs": [
    {
     "name": "stdout",
     "output_type": "stream",
     "text": [
      "Sensitivity or TPR: 90.47619047619048%\n",
      "Specificity or TNR: 70.0%\n",
      "Precision: 86.36363636363636%\n",
      "Negative Predictive Value: 77.77777777777779%\n",
      "False Positive Rate: 30.0%\n",
      "False Negative Rate: 9.523809523809524%\n",
      "False Discovery Rate: 13.636363636363635%\n",
      "Accuracy: 83.87096774193549%\n",
      "Validation AUC 0.8023809523809523\n",
      "Figure(432x288)\n"
     ]
    },
    {
     "data": {
      "image/png": "[encoded data removed]",
      "text/plain": [
       "<Figure size 432x288 with 2 Axes>"
      ]
     },
     "metadata": {
      "needs_background": "light"
     },
     "output_type": "display_data"
    },
    {
     "data": {
      "text/plain": [
       "<Figure size 432x288 with 0 Axes>"
      ]
     },
     "metadata": {},
     "output_type": "display_data"
    }
   ],
   "source": [
    "plot_roc(test_labels, best_target_predicted_binary)"
   ]
  },
  {
   "cell_type": "markdown",
   "metadata": {},
   "source": [
    "**Question:** How do these results differ from the original? Are these results better or worse? \n",
    "\n",
    "You might not always see an improvement. There are a few reasons for this result:\n",
    "\n",
    "- The model might already be good from the initial pass (what counts as *good* is subjective).\n",
    "- You don't have a large amount of data to train with.\n",
    "- You are using a *subset* of the hyperparameter tuning ranges to save time in this lab.\n",
    "\n",
    "Increasing the hyperparameter ranges (as recommended by the documentation) and running more than 30 jobs will typically improve the model. However, this process will take 2-3 hours to complete."
   ]
  },
  {
   "cell_type": "markdown",
   "metadata": {},
   "source": [
    "# Congratulations!\n",
    "\n",
    "You have completed this lab, and you can now end the lab by following the lab guide instructions.\n",
    "\n",
    "\n"
   ]
  }
 ],
 "metadata": {
  "kernelspec": {
   "display_name": "Python 3 (ipykernel)",
   "language": "python",
   "name": "python3"
  },
  "language_info": {
   "codemirror_mode": {
    "name": "ipython",
    "version": 3
   },
   "file_extension": ".py",
   "mimetype": "text/x-python",
   "name": "python",
   "nbconvert_exporter": "python",
   "pygments_lexer": "ipython3",
   "version": "3.8.12"
  }
 },
 "nbformat": 4,
 "nbformat_minor": 4
}
